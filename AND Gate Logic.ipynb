{
 "cells": [
  {
   "cell_type": "markdown",
   "id": "770ed353-1f42-4e16-9f7f-626d1991d13a",
   "metadata": {},
   "source": [
    "# AND Logic Gate Perceptron"
   ]
  },
  {
   "cell_type": "code",
   "execution_count": 45,
   "id": "e2055991-4ccd-4317-987c-85d1289395c2",
   "metadata": {},
   "outputs": [],
   "source": [
    "import numpy as np\n",
    "import matplotlib.pyplot as plt"
   ]
  },
  {
   "cell_type": "code",
   "execution_count": 1,
   "id": "5106c686-f3d1-46fb-9066-377afa3e2b0f",
   "metadata": {},
   "outputs": [],
   "source": [
    "w1, w2, b = 0.5, 0.5, -1"
   ]
  },
  {
   "cell_type": "code",
   "execution_count": 3,
   "id": "85b7d9e9-6208-4c6e-9578-86b698ba064b",
   "metadata": {},
   "outputs": [],
   "source": [
    "def activation_fucntion(x):\n",
    "    return 1 if x >= 0 else 0"
   ]
  },
  {
   "cell_type": "code",
   "execution_count": 19,
   "id": "b233c8f7-df66-4043-b1e0-229f28a0a06b",
   "metadata": {},
   "outputs": [],
   "source": [
    "errors = []\n",
    "def train_perceptron(inputs, desired_outputs, learning_rate, epochs):\n",
    "    global w1, w2, b\n",
    "    for epoch in range(epochs):\n",
    "        total_error = 0\n",
    "        for i in range(len(inputs)):\n",
    "            A, B = inputs[i]\n",
    "            target_output = desired_outputs[i]\n",
    "            output = activation_fucntion(w1 * A + w2 * B + b)\n",
    "            error = target_output - output\n",
    "            w1 += learning_rate * error * A\n",
    "            w2 += learning_rate * error * B\n",
    "            b += learning_rate * error\n",
    "            total_error += abs(error)\n",
    "        errors.append(error)\n",
    "        if total_error == 0:\n",
    "            break"
   ]
  },
  {
   "cell_type": "code",
   "execution_count": 47,
   "id": "22c5bada-5c9d-4a1d-92e8-820d932b51bf",
   "metadata": {},
   "outputs": [],
   "source": [
    "inputs = np.array([[0, 0], [0, 1], [1, 0], [1, 1]])\n",
    "desired_outputs = np.array([0, 0, 0, 1])\n",
    "learning_rate = 0.1\n",
    "epochs = 100"
   ]
  },
  {
   "cell_type": "code",
   "execution_count": 49,
   "id": "6de99c91-38b8-4e16-8964-a78d6c2de9e5",
   "metadata": {},
   "outputs": [
    {
     "name": "stdout",
     "output_type": "stream",
     "text": [
      "0 0\n",
      "0 1\n",
      "1 0\n",
      "1 1\n",
      "Input: (0, 0)  Output: 0\n",
      "Input: (0, 1)  Output: 0\n",
      "Input: (1, 0)  Output: 0\n",
      "Input: (1, 1)  Output: 1\n"
     ]
    }
   ],
   "source": [
    "train_perceptron(inputs, desired_outputs, learning_rate, epochs)\n",
    "\n",
    "for i in range(len(inputs)):\n",
    "    A, B = inputs[i]\n",
    "    output = activation_fucntion(w1 * A + w2 * B + b)\n",
    "    print(f\"Input: ({A}, {B})  Output: {output}\")"
   ]
  },
  {
   "cell_type": "code",
   "execution_count": 55,
   "id": "051d5607-ff44-4f12-bd4f-cc51838ce036",
   "metadata": {},
   "outputs": [
    {
     "data": {
      "image/png": "[encoded data removed]",
      "text/plain": [
       "<Figure size 640x480 with 1 Axes>"
      ]
     },
     "metadata": {},
     "output_type": "display_data"
    }
   ],
   "source": [
    "plt.scatter(inputs[:,0],inputs[:,1], c = desired_outputs, cmap =plt.cm.RdYlBu);"
   ]
  },
  {
   "cell_type": "code",
   "execution_count": 59,
   "id": "45a27148-fbe8-40a9-8c3f-37d5804e59af",
   "metadata": {},
   "outputs": [],
   "source": [
    "x_min, x_max = inputs[:, 0].min() - 0.1, inputs[:,0].max() + 0.1\n",
    "y_min, y_max = inputs[:, 1].min() - 0.1, inputs[:, 1].max() + 0.1"
   ]
  },
  {
   "cell_type": "code",
   "execution_count": 61,
   "id": "e6dd1055-92a9-4659-996b-fb64cffcc16c",
   "metadata": {},
   "outputs": [],
   "source": [
    "xx, yy = np.meshgrid(np.linspace(x_min,x_max, 100),\n",
    "np.linspace(y_min, y_max, 100))"
   ]
  },
  {
   "cell_type": "code",
   "execution_count": 63,
   "id": "25ebd59b-9991-4e1c-bf83-11045cd54438",
   "metadata": {},
   "outputs": [],
   "source": [
    "x_in = np.c_[xx.ravel(), yy.ravel()]"
   ]
  },
  {
   "cell_type": "code",
   "execution_count": 65,
   "id": "9fc6db8f-6c94-4a5c-9781-d1231e8fd251",
   "metadata": {},
   "outputs": [
    {
     "data": {
      "text/plain": [
       "array([[-0.1       , -0.1       ],\n",
       "       [-0.08787879, -0.1       ],\n",
       "       [-0.07575758, -0.1       ],\n",
       "       ...,\n",
       "       [ 1.07575758,  1.1       ],\n",
       "       [ 1.08787879,  1.1       ],\n",
       "       [ 1.1       ,  1.1       ]])"
      ]
     },
     "execution_count": 65,
     "metadata": {},
     "output_type": "execute_result"
    }
   ],
   "source": [
    "x_in"
   ]
  },
  {
   "cell_type": "code",
   "execution_count": 69,
   "id": "2fac72d4-147f-4f96-ad88-c1feb4bfd910",
   "metadata": {},
   "outputs": [],
   "source": [
    "y_pred = []\n",
    "for i in range(len(x_in)):\n",
    "    A, B = x_in[i]\n",
    "    y_pred.append(activation_fucntion(w1 * A + w2 * B + b))"
   ]
  },
  {
   "cell_type": "code",
   "execution_count": 73,
   "id": "8f731e86-fadc-437c-b2e5-354325b9c512",
   "metadata": {},
   "outputs": [],
   "source": [
    "y_pred = np.round(y_pred).reshape(xx.shape)"
   ]
  },
  {
   "cell_type": "code",
   "execution_count": 83,
   "id": "b12682ba-b327-4e58-8bc1-8e7147bc418d",
   "metadata": {},
   "outputs": [
    {
     "data": {
      "text/plain": [
       "(-0.1, 1.1)"
      ]
     },
     "execution_count": 83,
     "metadata": {},
     "output_type": "execute_result"
    },
    {
     "data": {
      "image/png": "[encoded data removed]",
      "text/plain": [
       "<Figure size 640x480 with 1 Axes>"
      ]
     },
     "metadata": {},
     "output_type": "display_data"
    }
   ],
   "source": [
    "plt.contourf(xx, yy, y_pred, cmap=plt.cm.RdYlBu, alpha=0.5 )\n",
    "plt.scatter(inputs[:,0], inputs[:, 1], c=desired_outputs, s=100, cmap=plt.cm.RdYlBu)\n",
    "plt.xlim(xx.min(), xx.max())\n",
    "plt.ylim(yy.min(), yy.max())"
   ]
  },
  {
   "cell_type": "code",
   "execution_count": null,
   "id": "b6d7c4a2-ae33-4203-a1c4-cb33e3dfe731",
   "metadata": {},
   "outputs": [],
   "source": []
  }
 ],
 "metadata": {
  "kernelspec": {
   "display_name": "Python 3 (ipykernel)",
   "language": "python",
   "name": "python3"
  },
  "language_info": {
   "codemirror_mode": {
    "name": "ipython",
    "version": 3
   },
   "file_extension": ".py",
   "mimetype": "text/x-python",
   "name": "python",
   "nbconvert_exporter": "python",
   "pygments_lexer": "ipython3",
   "version": "3.12.7"
  }
 },
 "nbformat": 4,
 "nbformat_minor": 5
}
